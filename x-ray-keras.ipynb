{
 "cells": [
  {
   "cell_type": "code",
   "execution_count": 1,
   "metadata": {
    "_cell_guid": "b1076dfc-b9ad-4769-8c92-a6c4dae69d19",
    "_uuid": "8f2839f25d086af736a60e9eeb907d3b93b6e0e5"
   },
   "outputs": [],
   "source": [
    "# This Python 3 environment comes with many helpful analytics libraries installed\n",
    "# It is defined by the kaggle/python Docker image: https://github.com/kaggle/docker-python\n",
    "# For example, here's several helpful packages to load\n",
    "\n",
    "import numpy as np # linear algebra\n",
    "import pandas as pd # data processing, CSV file I/O (e.g. pd.read_csv)\n",
    "\n",
    "# Input data files are available in the read-only \"../input/\" directory\n",
    "# For example, running this (by clicking run or pressing Shift+Enter) will list all files under the input directory\n",
    "\n",
    "import os\n",
    "#for dirname, _, filenames in os.walk('/kaggle/input'):\n",
    "#    for filename in filenames:\n",
    "#        print(os.path.join(dirname, filename))\n",
    "\n",
    "# You can write up to 5GB to the current directory (/kaggle/working/) that gets preserved as output when you create a version using \"Save & Run All\" \n",
    "# You can also write temporary files to /kaggle/temp/, but they won't be saved outside of the current session"
   ]
  },
  {
   "cell_type": "code",
   "execution_count": 2,
   "metadata": {},
   "outputs": [],
   "source": [
    "from pathlib import Path\n",
    "\n",
    "# Path to train directory \n",
    "train_directory = Path('../input/chest-xray-pneumonia/chest_xray/chest_xray/train') \n",
    "\n",
    "# Path to validation directory\n",
    "val_directory = Path('../input/chest-xray-pneumonia/chest_xray/chest_xray/val')  \n",
    "\n",
    "# Path to test directory\n",
    "test_directory = Path('../input/chest-xray-pneumonia/chest_xray/chest_xray/test')"
   ]
  },
  {
   "cell_type": "code",
   "execution_count": 3,
   "metadata": {},
   "outputs": [
    {
     "name": "stderr",
     "output_type": "stream",
     "text": [
      "Using TensorFlow backend.\n"
     ]
    }
   ],
   "source": [
    "from keras.preprocessing.image import ImageDataGenerator\n",
    "\n",
    "# create a data generator\n",
    "datagen = ImageDataGenerator(rescale=1./255)"
   ]
  },
  {
   "cell_type": "code",
   "execution_count": 4,
   "metadata": {},
   "outputs": [
    {
     "name": "stdout",
     "output_type": "stream",
     "text": [
      "Found 5216 images belonging to 2 classes.\n",
      "Found 16 images belonging to 2 classes.\n",
      "Found 624 images belonging to 2 classes.\n"
     ]
    }
   ],
   "source": [
    "# load and iterate training dataset\n",
    "train_it = datagen.flow_from_directory(train_directory, class_mode='binary', batch_size=64)\n",
    "# load and iterate validation dataset\n",
    "val_it = datagen.flow_from_directory(val_directory, class_mode='binary', batch_size=64)\n",
    "# load and iterate test dataset\n",
    "test_it = datagen.flow_from_directory(test_directory, class_mode='binary', batch_size=64)"
   ]
  },
  {
   "cell_type": "code",
   "execution_count": 5,
   "metadata": {},
   "outputs": [],
   "source": [
    "from keras import layers\n",
    "from keras import models\n",
    "model = models.Sequential()\n",
    "model.add(layers.Conv2D(32, (3, 3), activation='relu',input_shape=(256, 256, 3)))\n",
    "model.add(layers.MaxPooling2D((2, 2)))\n",
    "model.add(layers.Conv2D(64, (3, 3), activation='relu'))\n",
    "model.add(layers.MaxPooling2D((2, 2)))\n",
    "model.add(layers.Conv2D(128, (3, 3), activation='relu'))\n",
    "model.add(layers.MaxPooling2D((2, 2)))\n",
    "model.add(layers.Conv2D(128, (3, 3), activation='relu'))\n",
    "model.add(layers.MaxPooling2D((2, 2)))\n",
    "model.add(layers.Flatten())\n",
    "model.add(layers.Dense(512, activation='relu'))\n",
    "model.add(layers.Dense(1, activation='sigmoid'))"
   ]
  },
  {
   "cell_type": "code",
   "execution_count": 6,
   "metadata": {},
   "outputs": [],
   "source": [
    "#compile model using accuracy to measure model performance\n",
    "model.compile(optimizer='rmsprop', loss='binary_crossentropy', metrics=['acc'])"
   ]
  },
  {
   "cell_type": "code",
   "execution_count": 7,
   "metadata": {},
   "outputs": [
    {
     "name": "stdout",
     "output_type": "stream",
     "text": [
      "Epoch 1/20\n",
      "10/10 [==============================] - 47s 5s/step - loss: 3.8406 - acc: 0.6625 - val_loss: 0.7756 - val_acc: 0.5000\n",
      "Epoch 2/20\n",
      "10/10 [==============================] - 29s 3s/step - loss: 0.6234 - acc: 0.7156 - val_loss: 1.3196 - val_acc: 0.5000\n",
      "Epoch 3/20\n",
      "10/10 [==============================] - 28s 3s/step - loss: 0.5490 - acc: 0.7547 - val_loss: 0.6994 - val_acc: 0.5625\n",
      "Epoch 4/20\n",
      "10/10 [==============================] - 29s 3s/step - loss: 0.5571 - acc: 0.8219 - val_loss: 0.5526 - val_acc: 0.6250\n",
      "Epoch 5/20\n",
      "10/10 [==============================] - 28s 3s/step - loss: 0.3479 - acc: 0.8594 - val_loss: 0.4697 - val_acc: 0.7500\n",
      "Epoch 6/20\n",
      "10/10 [==============================] - 29s 3s/step - loss: 0.4788 - acc: 0.7828 - val_loss: 0.5279 - val_acc: 0.6875\n",
      "Epoch 7/20\n",
      "10/10 [==============================] - 28s 3s/step - loss: 0.2818 - acc: 0.8859 - val_loss: 0.3505 - val_acc: 0.8125\n",
      "Epoch 8/20\n",
      "10/10 [==============================] - 22s 2s/step - loss: 0.3531 - acc: 0.8297 - val_loss: 0.4686 - val_acc: 0.6250\n",
      "Epoch 9/20\n",
      "10/10 [==============================] - 41s 4s/step - loss: 0.3492 - acc: 0.8507 - val_loss: 0.3675 - val_acc: 0.8125\n",
      "Epoch 10/20\n",
      "10/10 [==============================] - 28s 3s/step - loss: 0.3610 - acc: 0.8672 - val_loss: 0.3399 - val_acc: 0.8125\n",
      "Epoch 11/20\n",
      "10/10 [==============================] - 28s 3s/step - loss: 0.2159 - acc: 0.9125 - val_loss: 0.2234 - val_acc: 0.9375\n",
      "Epoch 12/20\n",
      "10/10 [==============================] - 29s 3s/step - loss: 0.2282 - acc: 0.9156 - val_loss: 0.4454 - val_acc: 0.6875\n",
      "Epoch 13/20\n",
      "10/10 [==============================] - 28s 3s/step - loss: 0.2391 - acc: 0.9297 - val_loss: 0.2504 - val_acc: 0.8750\n",
      "Epoch 14/20\n",
      "10/10 [==============================] - 28s 3s/step - loss: 0.2422 - acc: 0.9234 - val_loss: 0.3154 - val_acc: 0.8125\n",
      "Epoch 15/20\n",
      "10/10 [==============================] - 29s 3s/step - loss: 0.6388 - acc: 0.9094 - val_loss: 0.4728 - val_acc: 0.7500\n",
      "Epoch 16/20\n",
      "10/10 [==============================] - 23s 2s/step - loss: 0.1302 - acc: 0.9453 - val_loss: 0.2103 - val_acc: 0.8750\n",
      "Epoch 17/20\n",
      "10/10 [==============================] - 38s 4s/step - loss: 0.1820 - acc: 0.9297 - val_loss: 1.1125 - val_acc: 0.6250\n",
      "Epoch 18/20\n",
      "10/10 [==============================] - 28s 3s/step - loss: 0.1975 - acc: 0.9281 - val_loss: 0.2404 - val_acc: 0.8750\n",
      "Epoch 19/20\n",
      "10/10 [==============================] - 29s 3s/step - loss: 0.1779 - acc: 0.9406 - val_loss: 0.7124 - val_acc: 0.7500\n",
      "Epoch 20/20\n",
      "10/10 [==============================] - 28s 3s/step - loss: 0.2055 - acc: 0.9281 - val_loss: 0.2799 - val_acc: 0.8125\n"
     ]
    },
    {
     "data": {
      "text/plain": [
       "<keras.callbacks.callbacks.History at 0x7f1fe8529890>"
      ]
     },
     "execution_count": 7,
     "metadata": {},
     "output_type": "execute_result"
    }
   ],
   "source": [
    "#train the model\n",
    "model.fit_generator(train_it, steps_per_epoch=10, validation_data=val_it, validation_steps=50,epochs=20)"
   ]
  },
  {
   "cell_type": "code",
   "execution_count": 8,
   "metadata": {},
   "outputs": [
    {
     "name": "stdout",
     "output_type": "stream",
     "text": [
      "Found 624 images belonging to 2 classes.\n",
      "10/10 [==============================] - 15s 2s/step\n",
      "test acc: 0.7724359035491943\n"
     ]
    }
   ],
   "source": [
    "test_datagen = ImageDataGenerator(rescale=1./255)\n",
    "\n",
    "test_generator = test_datagen.flow_from_directory(\n",
    "test_directory,\n",
    "target_size=(256, 256),\n",
    "batch_size=64,\n",
    "class_mode='binary')\n",
    "test_loss, test_acc = model.evaluate_generator(test_generator, steps=10, verbose=1)\n",
    "print('test acc:', test_acc)"
   ]
  },
  {
   "cell_type": "code",
   "execution_count": null,
   "metadata": {},
   "outputs": [],
   "source": []
  }
 ],
 "metadata": {
  "kernelspec": {
   "display_name": "Python 3",
   "language": "python",
   "name": "python3"
  },
  "language_info": {
   "codemirror_mode": {
    "name": "ipython",
    "version": 3
   },
   "file_extension": ".py",
   "mimetype": "text/x-python",
   "name": "python",
   "nbconvert_exporter": "python",
   "pygments_lexer": "ipython3",
   "version": "3.7.6"
  }
 },
 "nbformat": 4,
 "nbformat_minor": 4
}
